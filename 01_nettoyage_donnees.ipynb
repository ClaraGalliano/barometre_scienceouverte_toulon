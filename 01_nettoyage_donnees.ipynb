{
 "cells": [
  {
   "cell_type": "markdown",
   "metadata": {},
   "source": [
    "# <span style=\"color:orange\">Nettoyer des jeux de données pour obtenir une liste de DOI des publications de l'Université de Toulon : Web of Science, Pubmed, HAL, données des APC, Lens.org</span>"
   ]
  },
  {
   "cell_type": "markdown",
   "metadata": {},
   "source": [
    "Ce premier notebook sert à nettoyer les différents fichiers obtenus après téléchargement sur le WoS, Pubmed, HAL, les données d'APC et Lens.org. Pour savoir quelques requêtes ont été utilisées pour l'Université de Toulon, consulter le fichier intitulé \"requetes_bdd\" dans le dossier. Quelques consignes sont à respecter pour que tout fonctionne :\n",
    "\n",
    "- Pour le WoS, il suffit de procéder à un téléchargement simple \"Fast 5000\". Le fichier obtenu, en texte, est illisible et c'est normal, il n'y a rien à changer. Nommer le fichier \"wos_toulon_2016\", puis \"wos_toulon_2017\"... Ce fichier n'apparaît pas dans le dossier téléchargé depuis Gitlab car les données du Web of Science étant propriétaires, il n'était pas possible de les diffuser librement.\n",
    "- Pour Pubmed, le téléchargement donne un fichier CSV très peu classé, c'est normal, il n'y a rien à changer. Nommer le fichier \"pubmed_toulon_2016\", puis \"pubmed_toulon_2017\"...\n",
    "- Pour les autres sources de données, on obtient directement une liste de DOI, mais **il faut s'assurer que la colonne s'appelle bien \"doi\" en minuscules et qu'il n'y a pas de ligne vide**\n",
    "\n",
    "Il faut télécharger année par année, et toujours nommer les fichiers de la même manière.  <span style=\"color:red\"> **Il est vital de garder l'organisation ici présente (Data > raw > dossier par année) pour que le code fonctionne.**</span>\n",
    "\n",
    "<span style=\"color:red\">Si l'on ne dispose pas de certaines données (par exemple, l'établissement n'a pas de données sur les APC ou n'utilise pas le Web of Science), il ne faut pas exécuter les parties de code liées à ces outils. Si l'on ne dispose pas d'extractions du Web of Science, on n'exécute pas toute la partie \"Nettoyer les données issues du Web of Science\".\n",
    "\n",
    "Il faut remplacer \"toulon\" par le nom de l'établissement directement dans le code ci-dessous. Vous pouvez faire ctrl-f pour modifier toutes les occurrences d'un coup.**</span>\n",
    "\n",
    "Commencer par exécuter les lignes ci-dessous : cliquer sur la ligne puis ensuite sur le bouton \"play\" de la bare d'outils."
   ]
  },
  {
   "cell_type": "code",
   "execution_count": 1,
   "metadata": {},
   "outputs": [],
   "source": [
    "column_name = \"doi\""
   ]
  },
  {
   "cell_type": "code",
   "execution_count": 2,
   "metadata": {},
   "outputs": [],
   "source": [
    "import pandas"
   ]
  },
  {
   "cell_type": "code",
   "execution_count": 3,
   "metadata": {},
   "outputs": [],
   "source": [
    "import csv"
   ]
  },
  {
   "cell_type": "markdown",
   "metadata": {},
   "source": [
    "## <span style=\"color:orange\">Nettoyer les données issues du Web of Science</span>"
   ]
  },
  {
   "cell_type": "markdown",
   "metadata": {},
   "source": [
    "### Comprendre comment est structuré le fichier"
   ]
  },
  {
   "cell_type": "markdown",
   "metadata": {},
   "source": [
    "On ouvre le premier fichier puis on utilise la méthode de liste **split** pour voir une ligne (la 4ème, par exemple)."
   ]
  },
  {
   "cell_type": "code",
   "execution_count": 4,
   "metadata": {},
   "outputs": [],
   "source": [
    "with open(\"Data/raw/2016/wos_toulon_2016.txt\") as f:\n",
    "    wos_string = f.read()"
   ]
  },
  {
   "cell_type": "markdown",
   "metadata": {},
   "source": [
    "La ligne ci-dessous permet de voir à quoi ressemble la 5ème ligne du fichier (en Python, la numérotation commence à zéro)."
   ]
  },
  {
   "cell_type": "code",
   "execution_count": 5,
   "metadata": {},
   "outputs": [
    {
     "data": {
      "text/plain": [
       "'J\\tManzanera, Antoine; Thanh Phuong Nguyen; Xu, Xiaolei\\t\\t\\t\\t\\t\\t\\t\\tLine and circle detection using dense one-to-one Hough transforms on greyscale images\\t\\t\\t\\t\\t\\t\\t\\tEURASIP JOURNAL ON IMAGE AND VIDEO PROCESSING\\t\\t\\t\\t\\t\\t\\t\\t\\t\\t46\\t10.1186/s13640-016-0149-y\\t\\t\\tDEC 12 2016\\t2016\\tBy estimating the first-order (direction) and second-order (curvature) derivatives in an image, the parameters of a line or circle passing through a point may be uniquely defined in most cases. This allows to compute a one-to-one Hough transform, every point in the image space voting for one unique point in the parameter space. Moreover, those parameters can be directly estimated on the greyscale image without the need to calculate the contour and without reducing the spatial support of the Hough transform, i.e. densely on the whole image. The general framework using multiscale derivatives is presented, and the one-to-one Hough dense transforms for detecting lines and circles are evaluated and compared with other variants of Hough transforms, from qualitative and computational points of view.\\t\\t[Manzanera, Antoine; Xu, Xiaolei] Univ Paris Saclay, U2IS, ENSTA ParisTech, 828 Blvd Marechaux, F-91762 Palaiseau, France; [Thanh Phuong Nguyen] Aix Marseille Univ, CNRS, ENSAM, LSIS UMR 7296, F-13397 Marseille, France; [Thanh Phuong Nguyen] Univ Toulon & Var, CNRS, LSIS, UMR 7296, F-83957 La Garde, France; [Manzanera, Antoine] Univ Paris Saclay, U2IS, ENSTA ParisTech, 828 Blvd Marechaux, F-91762 Palaiseau, France\\t\\t\\t\\t\\t\\t\\t\\t15\\t\\t\\t\\t\\t\\t\\tEngineering, Electrical & Electronic; Imaging Science & Photographic Technology\\tWOS:000391587900002\\t\\t'"
      ]
     },
     "execution_count": 5,
     "metadata": {},
     "output_type": "execute_result"
    }
   ],
   "source": [
    "wos_string.split(\"\\n\") [4]"
   ]
  },
  {
   "cell_type": "markdown",
   "metadata": {},
   "source": [
    "### Définir une fonction"
   ]
  },
  {
   "cell_type": "markdown",
   "metadata": {},
   "source": [
    "Définition de la fonction **read_wos** : l'année est en argument. On tape la 1ère année concernée (2016) pour que cela utilise les données de 2016 en premier. Dans cette fonction, les fichiers de toutes les années (de 2016 à 2021 exclue) seront interrogés. \n",
    "\n",
    "On crée une liste vide (wos_per_year) dans laquelle on stockera après les données de toutes les années grâce à la boucle **for**.  <span style=\"color:red\">**Pour l'instant, on n'interroge que jusqu'en 2020. Il faudra mettre 2022 à la place quand les données de 2021 seront ajoutées dans le dossier \"raw\", et ainsi de suite.**</span>\n",
    "\n",
    "La liste vide wos_per_year est remplie à chaque tour de boucle grâce à la méthode **append**. Pour avoir la liste de toutes les données sans tri par année, on concatène les fichiers grâce à **pandas.concat**."
   ]
  },
  {
   "cell_type": "code",
   "execution_count": 6,
   "metadata": {},
   "outputs": [],
   "source": [
    "def read_wos(year):\n",
    "    wos_per_year = []\n",
    "    for year in range (2016, 2021):\n",
    "       wos_df = pandas.read_csv(\"Data/raw/{}/wos_toulon_{}.txt\".format(str(year), str(year)), sep=\"\\t\",\n",
    "                 quoting=csv.QUOTE_NONE, index_col=False, usecols=['DI'])\n",
    "       wos_per_year.append(wos_df)\n",
    "\n",
    "    full_wos = pandas.concat(wos_per_year)\n",
    "    \n",
    "    resultat = full_wos.rename (columns={'DI':column_name})\n",
    "           \n",
    "    return resultat"
   ]
  },
  {
   "cell_type": "code",
   "execution_count": 7,
   "metadata": {},
   "outputs": [],
   "source": [
    "wos_df = read_wos(2016)"
   ]
  },
  {
   "cell_type": "code",
   "execution_count": 8,
   "metadata": {},
   "outputs": [
    {
     "data": {
      "text/html": [
       "<div>\n",
       "<style scoped>\n",
       "    .dataframe tbody tr th:only-of-type {\n",
       "        vertical-align: middle;\n",
       "    }\n",
       "\n",
       "    .dataframe tbody tr th {\n",
       "        vertical-align: top;\n",
       "    }\n",
       "\n",
       "    .dataframe thead th {\n",
       "        text-align: right;\n",
       "    }\n",
       "</style>\n",
       "<table border=\"1\" class=\"dataframe\">\n",
       "  <thead>\n",
       "    <tr style=\"text-align: right;\">\n",
       "      <th></th>\n",
       "      <th>doi</th>\n",
       "    </tr>\n",
       "  </thead>\n",
       "  <tbody>\n",
       "    <tr>\n",
       "      <th>0</th>\n",
       "      <td>10.1103/PhysRevD.94.123520</td>\n",
       "    </tr>\n",
       "    <tr>\n",
       "      <th>1</th>\n",
       "      <td>10.1186/s13068-016-0681-0</td>\n",
       "    </tr>\n",
       "    <tr>\n",
       "      <th>2</th>\n",
       "      <td>10.1186/s13068-016-0678-8</td>\n",
       "    </tr>\n",
       "    <tr>\n",
       "      <th>3</th>\n",
       "      <td>10.1186/s13640-016-0149-y</td>\n",
       "    </tr>\n",
       "    <tr>\n",
       "      <th>4</th>\n",
       "      <td>10.1088/1751-8113/49/49/495202</td>\n",
       "    </tr>\n",
       "    <tr>\n",
       "      <th>...</th>\n",
       "      <td>...</td>\n",
       "    </tr>\n",
       "    <tr>\n",
       "      <th>328</th>\n",
       "      <td>10.1016/j.scitotenv.2019.134067</td>\n",
       "    </tr>\n",
       "    <tr>\n",
       "      <th>329</th>\n",
       "      <td>10.1016/j.ceramint.2019.09.015</td>\n",
       "    </tr>\n",
       "    <tr>\n",
       "      <th>330</th>\n",
       "      <td>10.3934/dcds.2020015</td>\n",
       "    </tr>\n",
       "    <tr>\n",
       "      <th>331</th>\n",
       "      <td>10.1016/j.astropartphys.2019.06.003</td>\n",
       "    </tr>\n",
       "    <tr>\n",
       "      <th>332</th>\n",
       "      <td>10.1016/j.ins.2019.07.055</td>\n",
       "    </tr>\n",
       "  </tbody>\n",
       "</table>\n",
       "<p>1880 rows × 1 columns</p>\n",
       "</div>"
      ],
      "text/plain": [
       "                                     doi\n",
       "0             10.1103/PhysRevD.94.123520\n",
       "1              10.1186/s13068-016-0681-0\n",
       "2              10.1186/s13068-016-0678-8\n",
       "3              10.1186/s13640-016-0149-y\n",
       "4         10.1088/1751-8113/49/49/495202\n",
       "..                                   ...\n",
       "328      10.1016/j.scitotenv.2019.134067\n",
       "329       10.1016/j.ceramint.2019.09.015\n",
       "330                 10.3934/dcds.2020015\n",
       "331  10.1016/j.astropartphys.2019.06.003\n",
       "332            10.1016/j.ins.2019.07.055\n",
       "\n",
       "[1880 rows x 1 columns]"
      ]
     },
     "execution_count": 8,
     "metadata": {},
     "output_type": "execute_result"
    }
   ],
   "source": [
    "wos_df"
   ]
  },
  {
   "cell_type": "markdown",
   "metadata": {},
   "source": [
    "Vérifier que le chiffre total obtenu ici correspond bien au chiffre trouvé dans le Web of Science pour toutes les années. Ne pas hésiter à refaire les extractions d'années précédentes si les chiffres ne correspondent pas : il peut y avoir de nouvelles publications indexées dans le Web of Science."
   ]
  },
  {
   "cell_type": "markdown",
   "metadata": {},
   "source": [
    "### Identifier les cellules qui n'ont pas de DOI"
   ]
  },
  {
   "cell_type": "markdown",
   "metadata": {},
   "source": [
    "Trouver le nombre de lignes qui n'ont pas de DOI : utiliser la méthode **is not a number** (isna)."
   ]
  },
  {
   "cell_type": "code",
   "execution_count": 9,
   "metadata": {},
   "outputs": [],
   "source": [
    "def wos_sans_doi():\n",
    "    wos_df.isna().sum()\n",
    "    return wos_df.isna().sum()"
   ]
  },
  {
   "cell_type": "markdown",
   "metadata": {},
   "source": [
    "On met [0] pour demander le 1er élément de la liste"
   ]
  },
  {
   "cell_type": "code",
   "execution_count": 10,
   "metadata": {},
   "outputs": [
    {
     "data": {
      "text/plain": [
       "228"
      ]
     },
     "execution_count": 10,
     "metadata": {},
     "output_type": "execute_result"
    }
   ],
   "source": [
    "wos_sans_doi()[0]"
   ]
  },
  {
   "cell_type": "markdown",
   "metadata": {},
   "source": [
    "Trouver le nombre de lignes qui ont un DOI : utiliser la méthode **match** sur le string."
   ]
  },
  {
   "cell_type": "code",
   "execution_count": 11,
   "metadata": {},
   "outputs": [],
   "source": [
    "def wos_avec_doi():\n",
    "    wos_df[column_name].str.match(\"10.\").sum()\n",
    "    return wos_df[column_name].str.match(\"10.\").sum()"
   ]
  },
  {
   "cell_type": "code",
   "execution_count": 12,
   "metadata": {},
   "outputs": [
    {
     "data": {
      "text/plain": [
       "1652"
      ]
     },
     "execution_count": 12,
     "metadata": {},
     "output_type": "execute_result"
    }
   ],
   "source": [
    "wos_avec_doi()"
   ]
  },
  {
   "cell_type": "markdown",
   "metadata": {},
   "source": [
    "Vérifier le nombre de lignes total :"
   ]
  },
  {
   "cell_type": "code",
   "execution_count": 13,
   "metadata": {},
   "outputs": [
    {
     "data": {
      "text/plain": [
       "1880"
      ]
     },
     "execution_count": 13,
     "metadata": {},
     "output_type": "execute_result"
    }
   ],
   "source": [
    "len(wos_df)"
   ]
  },
  {
   "cell_type": "markdown",
   "metadata": {},
   "source": [
    "Vérifier qu'on a bien tout récupéré :"
   ]
  },
  {
   "cell_type": "code",
   "execution_count": 14,
   "metadata": {},
   "outputs": [
    {
     "data": {
      "text/plain": [
       "doi    1880\n",
       "dtype: int64"
      ]
     },
     "execution_count": 14,
     "metadata": {},
     "output_type": "execute_result"
    }
   ],
   "source": [
    "wos_sans_doi() + wos_avec_doi()"
   ]
  },
  {
   "cell_type": "markdown",
   "metadata": {},
   "source": [
    "Méthode de vérification de Python : **assert**. Si cela ne renvoie rien, c'est que les deux valeurs comparées sont identiques."
   ]
  },
  {
   "cell_type": "code",
   "execution_count": 15,
   "metadata": {},
   "outputs": [],
   "source": [
    "expected = len(wos_df[column_name])\n",
    "actual = wos_sans_doi()[0] + wos_avec_doi()\n",
    "\n",
    "assert(expected == actual)"
   ]
  },
  {
   "cell_type": "markdown",
   "metadata": {},
   "source": [
    " <span style=\"color:green\"> **Les données du WoS sont à présent nettoyées et stockées dans la variable intitulée \"wos_df\".** </span>"
   ]
  },
  {
   "cell_type": "markdown",
   "metadata": {},
   "source": [
    "## <span style=\"color:orange\">Nettoyer les données issues de Pubmed</span>"
   ]
  },
  {
   "cell_type": "code",
   "execution_count": 16,
   "metadata": {},
   "outputs": [],
   "source": [
    "with open(\"Data/raw/2016/pubmed_toulon_2016.csv\", encoding='utf-8') as f:\n",
    "    pubmed_string = f.read()"
   ]
  },
  {
   "cell_type": "code",
   "execution_count": 17,
   "metadata": {},
   "outputs": [
    {
     "data": {
      "text/plain": [
       "'\"27183120\",\"Effects of Footwear and Fatigue on Running Economy and Biomechanics in Trail Runners\",\"Vercruyssen F, Tartaruga M, Horvais N, Brisswalter J.\",\"Med Sci Sports Exerc. 2016 Oct;48(10):1976-84. doi: 10.1249/MSS.0000000000000981.\",\"Vercruyssen F\",\"Med Sci Sports Exerc\",\"2016\",\"2016/05/17\",\"\",\"\",\"10.1249/MSS.0000000000000981\"'"
      ]
     },
     "execution_count": 17,
     "metadata": {},
     "output_type": "execute_result"
    }
   ],
   "source": [
    "pubmed_string.split(\"\\n\") [1]"
   ]
  },
  {
   "cell_type": "code",
   "execution_count": 18,
   "metadata": {},
   "outputs": [],
   "source": [
    "pubmed_df = pandas.read_csv(\"Data/raw/2020/pubmed_toulon_2020.csv\", encoding='utf-8')"
   ]
  },
  {
   "cell_type": "code",
   "execution_count": 19,
   "metadata": {},
   "outputs": [
    {
     "name": "stdout",
     "output_type": "stream",
     "text": [
      "Index(['PMID', 'Title', 'Authors', 'Citation', 'First Author', 'Journal/Book',\n",
      "       'Publication Year', 'Create Date', 'PMCID', 'NIHMS ID', 'DOI'],\n",
      "      dtype='object')\n"
     ]
    }
   ],
   "source": [
    "print(pubmed_df.columns)"
   ]
  },
  {
   "cell_type": "markdown",
   "metadata": {},
   "source": [
    "Il y a bien une colonne qui s'appelle \"DOI\", elle va être interrogée pour trouver directement les DOI. <span style=\"color:red\">**Pour l'instant, on n'interroge que jusqu'en 2020. Il faudra mettre 2022 à la place quand les données de 2021 seront ajoutées dans le dossier \"raw\", et ainsi de suite.**</span>\n"
   ]
  },
  {
   "cell_type": "code",
   "execution_count": 20,
   "metadata": {},
   "outputs": [],
   "source": [
    "def read_pubmed(year):\n",
    "    pubmed_per_year = []\n",
    "    for year in range (2016, 2021):\n",
    "        pubmed_df = pandas.read_csv(\"Data/raw/{}/pubmed_toulon_{}.csv\".format(str(year), str(year))\n",
    "                                    ,sep=\",\", encoding='utf-8')\n",
    "        pubmed_per_year.append(pubmed_df)\n",
    "    \n",
    "    full_pubmed = pandas.concat(pubmed_per_year)\n",
    "           \n",
    "    resultat = pandas.DataFrame({column_name: full_pubmed[\"DOI\"]})                      \n",
    "    return resultat"
   ]
  },
  {
   "cell_type": "code",
   "execution_count": 21,
   "metadata": {},
   "outputs": [],
   "source": [
    "pubmed_df = read_pubmed(2016)"
   ]
  },
  {
   "cell_type": "code",
   "execution_count": 22,
   "metadata": {},
   "outputs": [
    {
     "data": {
      "text/html": [
       "<div>\n",
       "<style scoped>\n",
       "    .dataframe tbody tr th:only-of-type {\n",
       "        vertical-align: middle;\n",
       "    }\n",
       "\n",
       "    .dataframe tbody tr th {\n",
       "        vertical-align: top;\n",
       "    }\n",
       "\n",
       "    .dataframe thead th {\n",
       "        text-align: right;\n",
       "    }\n",
       "</style>\n",
       "<table border=\"1\" class=\"dataframe\">\n",
       "  <thead>\n",
       "    <tr style=\"text-align: right;\">\n",
       "      <th></th>\n",
       "      <th>doi</th>\n",
       "    </tr>\n",
       "  </thead>\n",
       "  <tbody>\n",
       "    <tr>\n",
       "      <th>0</th>\n",
       "      <td>10.1249/MSS.0000000000000981</td>\n",
       "    </tr>\n",
       "    <tr>\n",
       "      <th>1</th>\n",
       "      <td>10.4187/respcare.04821</td>\n",
       "    </tr>\n",
       "    <tr>\n",
       "      <th>2</th>\n",
       "      <td>10.1113/JP271167</td>\n",
       "    </tr>\n",
       "    <tr>\n",
       "      <th>3</th>\n",
       "      <td>10.1093/femsle/fnv216</td>\n",
       "    </tr>\n",
       "    <tr>\n",
       "      <th>4</th>\n",
       "      <td>10.1177/0031512516656817</td>\n",
       "    </tr>\n",
       "    <tr>\n",
       "      <th>...</th>\n",
       "      <td>...</td>\n",
       "    </tr>\n",
       "    <tr>\n",
       "      <th>147</th>\n",
       "      <td>10.1103/PhysRevLett.125.232003</td>\n",
       "    </tr>\n",
       "    <tr>\n",
       "      <th>148</th>\n",
       "      <td>10.1152/japplphysiol.00259.2020</td>\n",
       "    </tr>\n",
       "    <tr>\n",
       "      <th>149</th>\n",
       "      <td>10.1016/j.marpolbul.2019.110870</td>\n",
       "    </tr>\n",
       "    <tr>\n",
       "      <th>150</th>\n",
       "      <td>10.3390/bios10080093</td>\n",
       "    </tr>\n",
       "    <tr>\n",
       "      <th>151</th>\n",
       "      <td>10.1007/s11356-020-08704-5</td>\n",
       "    </tr>\n",
       "  </tbody>\n",
       "</table>\n",
       "<p>498 rows × 1 columns</p>\n",
       "</div>"
      ],
      "text/plain": [
       "                                 doi\n",
       "0       10.1249/MSS.0000000000000981\n",
       "1             10.4187/respcare.04821\n",
       "2                   10.1113/JP271167\n",
       "3              10.1093/femsle/fnv216\n",
       "4           10.1177/0031512516656817\n",
       "..                               ...\n",
       "147   10.1103/PhysRevLett.125.232003\n",
       "148  10.1152/japplphysiol.00259.2020\n",
       "149  10.1016/j.marpolbul.2019.110870\n",
       "150             10.3390/bios10080093\n",
       "151       10.1007/s11356-020-08704-5\n",
       "\n",
       "[498 rows x 1 columns]"
      ]
     },
     "execution_count": 22,
     "metadata": {},
     "output_type": "execute_result"
    }
   ],
   "source": [
    "pubmed_df"
   ]
  },
  {
   "cell_type": "markdown",
   "metadata": {},
   "source": [
    "### Vérifier qu'il ne manque pas de DOI"
   ]
  },
  {
   "cell_type": "code",
   "execution_count": 23,
   "metadata": {},
   "outputs": [],
   "source": [
    "def pubmed_sans_doi():\n",
    "    pubmed_df.isna().sum()\n",
    "    return pubmed_df.isna().sum()"
   ]
  },
  {
   "cell_type": "code",
   "execution_count": 24,
   "metadata": {},
   "outputs": [
    {
     "data": {
      "text/plain": [
       "doi    2\n",
       "dtype: int64"
      ]
     },
     "execution_count": 24,
     "metadata": {},
     "output_type": "execute_result"
    }
   ],
   "source": [
    "pubmed_sans_doi()"
   ]
  },
  {
   "cell_type": "code",
   "execution_count": 25,
   "metadata": {},
   "outputs": [],
   "source": [
    "def pubmed_avec_doi():\n",
    "    pubmed_df[column_name].str.match(\"10.\").sum()\n",
    "    return pubmed_df[column_name].str.match(\"10.\").sum()"
   ]
  },
  {
   "cell_type": "code",
   "execution_count": 26,
   "metadata": {},
   "outputs": [
    {
     "data": {
      "text/plain": [
       "496"
      ]
     },
     "execution_count": 26,
     "metadata": {},
     "output_type": "execute_result"
    }
   ],
   "source": [
    "pubmed_avec_doi()"
   ]
  },
  {
   "cell_type": "code",
   "execution_count": 27,
   "metadata": {},
   "outputs": [],
   "source": [
    "expected = len(pubmed_df)\n",
    "actual = pubmed_sans_doi()[0] + pubmed_avec_doi()\n",
    "\n",
    "assert(expected == actual)"
   ]
  },
  {
   "cell_type": "markdown",
   "metadata": {},
   "source": [
    " <span style=\"color:green\"> **Les données de Pubmed sont à présent nettoyées et stockées dans la variable intitulée \"pubmed_df\".** </span>"
   ]
  },
  {
   "cell_type": "markdown",
   "metadata": {},
   "source": [
    "## <span style=\"color:orange\">Ajouter les données de HAL</span>"
   ]
  },
  {
   "cell_type": "markdown",
   "metadata": {},
   "source": [
    "Grâce à ExtrHAL, il est très simple de récupérer une liste de DOI. Il peut être intéressant de refaire des extractions d'une année sur l'autre quand des campagnes de dépôt massif sont organisées, par exemple."
   ]
  },
  {
   "cell_type": "markdown",
   "metadata": {},
   "source": [
    "Ouvrir le fichier et concaténer les différentes années (mettre \"2022\" dans le code quand les données de 2021 seront injectées) :"
   ]
  },
  {
   "cell_type": "code",
   "execution_count": 28,
   "metadata": {},
   "outputs": [],
   "source": [
    "def read_hal(year):\n",
    "    hal_per_year = []\n",
    "    for year in range (2016, 2021):\n",
    "        hal_df = pandas.read_csv(\"Data/raw/{}/hal_toulon_{}.csv\".format(str(year), str(year)), sep=\"\\t\", encoding='latin-1')\n",
    "        hal_per_year.append(hal_df)\n",
    "    \n",
    "    \n",
    "    full_hal = pandas.concat(hal_per_year)\n",
    "                     \n",
    "    return full_hal"
   ]
  },
  {
   "cell_type": "code",
   "execution_count": 29,
   "metadata": {},
   "outputs": [],
   "source": [
    "hal_df = read_hal(2016)"
   ]
  },
  {
   "cell_type": "code",
   "execution_count": 30,
   "metadata": {},
   "outputs": [
    {
     "data": {
      "text/html": [
       "<div>\n",
       "<style scoped>\n",
       "    .dataframe tbody tr th:only-of-type {\n",
       "        vertical-align: middle;\n",
       "    }\n",
       "\n",
       "    .dataframe tbody tr th {\n",
       "        vertical-align: top;\n",
       "    }\n",
       "\n",
       "    .dataframe thead th {\n",
       "        text-align: right;\n",
       "    }\n",
       "</style>\n",
       "<table border=\"1\" class=\"dataframe\">\n",
       "  <thead>\n",
       "    <tr style=\"text-align: right;\">\n",
       "      <th></th>\n",
       "      <th>doi</th>\n",
       "    </tr>\n",
       "  </thead>\n",
       "  <tbody>\n",
       "    <tr>\n",
       "      <th>0</th>\n",
       "      <td>10.1088/1674-1137/40/1/011001</td>\n",
       "    </tr>\n",
       "    <tr>\n",
       "      <th>1</th>\n",
       "      <td>10.1016/j.jct.2015.08.019</td>\n",
       "    </tr>\n",
       "    <tr>\n",
       "      <th>2</th>\n",
       "      <td>10.1016/j.compositesb.2016.02.034</td>\n",
       "    </tr>\n",
       "    <tr>\n",
       "      <th>3</th>\n",
       "      <td>10.1016/j.actamat.2016.03.007</td>\n",
       "    </tr>\n",
       "    <tr>\n",
       "      <th>4</th>\n",
       "      <td>10.1016/j.tet.2016.01.038</td>\n",
       "    </tr>\n",
       "    <tr>\n",
       "      <th>...</th>\n",
       "      <td>...</td>\n",
       "    </tr>\n",
       "    <tr>\n",
       "      <th>593</th>\n",
       "      <td>10.1002/mbo3.1031</td>\n",
       "    </tr>\n",
       "    <tr>\n",
       "      <th>594</th>\n",
       "      <td>10.1016/j.oceaneng.2020.107190</td>\n",
       "    </tr>\n",
       "    <tr>\n",
       "      <th>595</th>\n",
       "      <td>10.17791/jcs.2020.21.2.193</td>\n",
       "    </tr>\n",
       "    <tr>\n",
       "      <th>596</th>\n",
       "      <td>10.1007/s10853-020-04856-4</td>\n",
       "    </tr>\n",
       "    <tr>\n",
       "      <th>597</th>\n",
       "      <td>10.1093/ptep/ptaa104</td>\n",
       "    </tr>\n",
       "  </tbody>\n",
       "</table>\n",
       "<p>3103 rows × 1 columns</p>\n",
       "</div>"
      ],
      "text/plain": [
       "                                   doi\n",
       "0        10.1088/1674-1137/40/1/011001\n",
       "1            10.1016/j.jct.2015.08.019\n",
       "2    10.1016/j.compositesb.2016.02.034\n",
       "3        10.1016/j.actamat.2016.03.007\n",
       "4            10.1016/j.tet.2016.01.038\n",
       "..                                 ...\n",
       "593                  10.1002/mbo3.1031\n",
       "594     10.1016/j.oceaneng.2020.107190\n",
       "595         10.17791/jcs.2020.21.2.193\n",
       "596         10.1007/s10853-020-04856-4\n",
       "597               10.1093/ptep/ptaa104\n",
       "\n",
       "[3103 rows x 1 columns]"
      ]
     },
     "execution_count": 30,
     "metadata": {},
     "output_type": "execute_result"
    }
   ],
   "source": [
    "hal_df"
   ]
  },
  {
   "cell_type": "markdown",
   "metadata": {},
   "source": [
    " <span style=\"color:green\"> **Les données de HAL sont à présent nettoyées et stockées dans la variable intitulée \"hal_df\".** </span>"
   ]
  },
  {
   "cell_type": "markdown",
   "metadata": {},
   "source": [
    "## <span style=\"color:orange\">Ajouter les données issues des paiements d'APC</span>"
   ]
  },
  {
   "cell_type": "markdown",
   "metadata": {},
   "source": [
    "Ces données proviennent des fichiers des bibliothèques de Toulon, établis pour le Consortium Couperin pour le suivi des APC. Il faut demander les fichiers à la personne qui en a la charge.\n",
    "\n",
    "Ici, les années 2016-2020 sont présentes dans le jeu de données. Il n'y a pas de chiffres pour les années ultérieures pour le moment. Comme nous n'avions pas les données de 2016, nous les avons remplacer par celles de 2015 dans le fichier \"apc_toulon_2016\". \n",
    "Il faut donc écrire 2016-2021 pour que les années de 2016 à 2020 incluse soient comptabilisées.\n",
    "\n",
    " <span style=\"color:red\"> **Si votre établissement ne dispose pas de ces données, il suffira d'enlever la variable \"apc_df\" qui est utilisée plus bas, sur la ligne \"all_toulon\".** </span>"
   ]
  },
  {
   "cell_type": "code",
   "execution_count": 31,
   "metadata": {},
   "outputs": [],
   "source": [
    "def read_apc(year):\n",
    "    apc_per_year = []\n",
    "    for year in range (2016, 2021):\n",
    "        apc_df = pandas.read_csv(\"Data/raw/{}/apc_toulon_{}.csv\".format(str(year), str(year)), sep=\"\\t\", encoding='latin-1')\n",
    "        apc_per_year.append(apc_df)\n",
    "    \n",
    "    \n",
    "    full_apc = pandas.concat(apc_per_year)\n",
    "                     \n",
    "    return full_apc"
   ]
  },
  {
   "cell_type": "code",
   "execution_count": 32,
   "metadata": {},
   "outputs": [],
   "source": [
    "apc_df = read_apc(2016)"
   ]
  },
  {
   "cell_type": "code",
   "execution_count": 33,
   "metadata": {},
   "outputs": [
    {
     "data": {
      "text/html": [
       "<div>\n",
       "<style scoped>\n",
       "    .dataframe tbody tr th:only-of-type {\n",
       "        vertical-align: middle;\n",
       "    }\n",
       "\n",
       "    .dataframe tbody tr th {\n",
       "        vertical-align: top;\n",
       "    }\n",
       "\n",
       "    .dataframe thead th {\n",
       "        text-align: right;\n",
       "    }\n",
       "</style>\n",
       "<table border=\"1\" class=\"dataframe\">\n",
       "  <thead>\n",
       "    <tr style=\"text-align: right;\">\n",
       "      <th></th>\n",
       "      <th>doi</th>\n",
       "    </tr>\n",
       "  </thead>\n",
       "  <tbody>\n",
       "    <tr>\n",
       "      <th>0</th>\n",
       "      <td>10.1155/2015/245378</td>\n",
       "    </tr>\n",
       "    <tr>\n",
       "      <th>1</th>\n",
       "      <td>10.1175/JPO-D-14-0247.1</td>\n",
       "    </tr>\n",
       "    <tr>\n",
       "      <th>2</th>\n",
       "      <td>10.1371/journal.pone.0136497</td>\n",
       "    </tr>\n",
       "    <tr>\n",
       "      <th>3</th>\n",
       "      <td>10.1371/journal.pcbi.1004579</td>\n",
       "    </tr>\n",
       "    <tr>\n",
       "      <th>4</th>\n",
       "      <td>10.1186/s12879-016-2003-3</td>\n",
       "    </tr>\n",
       "    <tr>\n",
       "      <th>5</th>\n",
       "      <td>10.1186/1944-3277-10-12</td>\n",
       "    </tr>\n",
       "    <tr>\n",
       "      <th>0</th>\n",
       "      <td>10.5194/angeo-35-423-2017</td>\n",
       "    </tr>\n",
       "    <tr>\n",
       "      <th>1</th>\n",
       "      <td>10.5194/bg-14-2429-2017</td>\n",
       "    </tr>\n",
       "    <tr>\n",
       "      <th>2</th>\n",
       "      <td>10.3389/fmicb.2017.01399  OU 10.3389/fmicb.201...</td>\n",
       "    </tr>\n",
       "    <tr>\n",
       "      <th>3</th>\n",
       "      <td>10.1371/journal.pone.0185741</td>\n",
       "    </tr>\n",
       "    <tr>\n",
       "      <th>4</th>\n",
       "      <td>10.1371/journal.pone.0189021</td>\n",
       "    </tr>\n",
       "    <tr>\n",
       "      <th>0</th>\n",
       "      <td>10.1002/2017JC012836</td>\n",
       "    </tr>\n",
       "    <tr>\n",
       "      <th>1</th>\n",
       "      <td>10.1039/C7RA08775F</td>\n",
       "    </tr>\n",
       "    <tr>\n",
       "      <th>2</th>\n",
       "      <td>10.1186/s40798-018-0130-7</td>\n",
       "    </tr>\n",
       "    <tr>\n",
       "      <th>3</th>\n",
       "      <td>10.3389/fmicb.2018.01960</td>\n",
       "    </tr>\n",
       "    <tr>\n",
       "      <th>0</th>\n",
       "      <td>10.3389/fmicb.2019.00257</td>\n",
       "    </tr>\n",
       "    <tr>\n",
       "      <th>1</th>\n",
       "      <td>10.3389/fmicb.2019.01768</td>\n",
       "    </tr>\n",
       "    <tr>\n",
       "      <th>2</th>\n",
       "      <td>10.1016/j.mex.2019.04.020</td>\n",
       "    </tr>\n",
       "    <tr>\n",
       "      <th>3</th>\n",
       "      <td>10.3390/act8020039</td>\n",
       "    </tr>\n",
       "    <tr>\n",
       "      <th>0</th>\n",
       "      <td>10.3390/app10051732</td>\n",
       "    </tr>\n",
       "    <tr>\n",
       "      <th>1</th>\n",
       "      <td>10.3389/fmicb.2020.00494</td>\n",
       "    </tr>\n",
       "    <tr>\n",
       "      <th>2</th>\n",
       "      <td>10.1038/s41598-020-64613-0</td>\n",
       "    </tr>\n",
       "    <tr>\n",
       "      <th>3</th>\n",
       "      <td>10.1016/j.mex.2020.101039</td>\n",
       "    </tr>\n",
       "    <tr>\n",
       "      <th>4</th>\n",
       "      <td>10.1039/D0RA05108J</td>\n",
       "    </tr>\n",
       "    <tr>\n",
       "      <th>5</th>\n",
       "      <td>10.3390/rs12162664</td>\n",
       "    </tr>\n",
       "    <tr>\n",
       "      <th>6</th>\n",
       "      <td>10.3390/jmse7090284</td>\n",
       "    </tr>\n",
       "    <tr>\n",
       "      <th>7</th>\n",
       "      <td>10.3390/brainsci11020274</td>\n",
       "    </tr>\n",
       "    <tr>\n",
       "      <th>8</th>\n",
       "      <td>10.3390/app10093137</td>\n",
       "    </tr>\n",
       "    <tr>\n",
       "      <th>9</th>\n",
       "      <td>10.3390/s20226429</td>\n",
       "    </tr>\n",
       "  </tbody>\n",
       "</table>\n",
       "</div>"
      ],
      "text/plain": [
       "                                                 doi\n",
       "0                                10.1155/2015/245378\n",
       "1                            10.1175/JPO-D-14-0247.1\n",
       "2                       10.1371/journal.pone.0136497\n",
       "3                       10.1371/journal.pcbi.1004579\n",
       "4                          10.1186/s12879-016-2003-3\n",
       "5                            10.1186/1944-3277-10-12\n",
       "0                          10.5194/angeo-35-423-2017\n",
       "1                            10.5194/bg-14-2429-2017\n",
       "2  10.3389/fmicb.2017.01399  OU 10.3389/fmicb.201...\n",
       "3                       10.1371/journal.pone.0185741\n",
       "4                       10.1371/journal.pone.0189021\n",
       "0                               10.1002/2017JC012836\n",
       "1                                 10.1039/C7RA08775F\n",
       "2                          10.1186/s40798-018-0130-7\n",
       "3                           10.3389/fmicb.2018.01960\n",
       "0                           10.3389/fmicb.2019.00257\n",
       "1                           10.3389/fmicb.2019.01768\n",
       "2                          10.1016/j.mex.2019.04.020\n",
       "3                                 10.3390/act8020039\n",
       "0                                10.3390/app10051732\n",
       "1                           10.3389/fmicb.2020.00494\n",
       "2                         10.1038/s41598-020-64613-0\n",
       "3                          10.1016/j.mex.2020.101039\n",
       "4                                 10.1039/D0RA05108J\n",
       "5                                 10.3390/rs12162664\n",
       "6                                10.3390/jmse7090284\n",
       "7                           10.3390/brainsci11020274\n",
       "8                                10.3390/app10093137\n",
       "9                                  10.3390/s20226429"
      ]
     },
     "execution_count": 33,
     "metadata": {},
     "output_type": "execute_result"
    }
   ],
   "source": [
    "apc_df"
   ]
  },
  {
   "cell_type": "markdown",
   "metadata": {},
   "source": [
    " <span style=\"color:green\"> **Les données d'APC sont à présent nettoyées et stockées dans la variable intitulée \"apc_df\".** </span>"
   ]
  },
  {
   "cell_type": "markdown",
   "metadata": {},
   "source": [
    "## <span style=\"color:orange\">Ajouter les données issues de Lens.org</span>"
   ]
  },
  {
   "cell_type": "markdown",
   "metadata": {},
   "source": [
    "Ces données proviennent de la base de données Lens.org https://www.lens.org/\n",
    "\n",
    "Attention, l'export direct de la colonne \"DOI\" produit un fichier dont la colonne s'appelle \"DOI\" : il faut la renommer en \"doi\". Il faut également enlever les lignes vides qui pourraient éventuellement être présentes dans ce tableau. Voici les commandes Excel : sélectionner la colonne \"doi\". Dans le menu \"rechercher et sélectionner\", cliquer sur \"Atteindre\", puis \"Cellules\". Cocher \"cellules vides\" et valider. Puis dans la barre du haut, cliquer sur \"Supprimer\" et  \"Supprimer les cellules…\", \"lignes entières\"."
   ]
  },
  {
   "cell_type": "code",
   "execution_count": 34,
   "metadata": {},
   "outputs": [],
   "source": [
    "def read_lens(year):\n",
    "    lens_per_year = []\n",
    "    for year in range (2016, 2021):\n",
    "        lens_df = pandas.read_csv(\"Data/raw/{}/lens_toulon_{}.csv\".format(str(year), str(year)), sep=\"\\t\", encoding='latin-1')\n",
    "        lens_per_year.append(lens_df)\n",
    "    \n",
    "    \n",
    "    full_lens = pandas.concat(lens_per_year)\n",
    "                     \n",
    "    return full_lens"
   ]
  },
  {
   "cell_type": "code",
   "execution_count": 35,
   "metadata": {},
   "outputs": [],
   "source": [
    "lens_df = read_lens(2016)"
   ]
  },
  {
   "cell_type": "code",
   "execution_count": 36,
   "metadata": {},
   "outputs": [
    {
     "data": {
      "text/html": [
       "<div>\n",
       "<style scoped>\n",
       "    .dataframe tbody tr th:only-of-type {\n",
       "        vertical-align: middle;\n",
       "    }\n",
       "\n",
       "    .dataframe tbody tr th {\n",
       "        vertical-align: top;\n",
       "    }\n",
       "\n",
       "    .dataframe thead th {\n",
       "        text-align: right;\n",
       "    }\n",
       "</style>\n",
       "<table border=\"1\" class=\"dataframe\">\n",
       "  <thead>\n",
       "    <tr style=\"text-align: right;\">\n",
       "      <th></th>\n",
       "      <th>doi;</th>\n",
       "      <th>doi</th>\n",
       "    </tr>\n",
       "  </thead>\n",
       "  <tbody>\n",
       "    <tr>\n",
       "      <th>0</th>\n",
       "      <td>10.1109/cca.2016.7587905;</td>\n",
       "      <td>NaN</td>\n",
       "    </tr>\n",
       "    <tr>\n",
       "      <th>1</th>\n",
       "      <td>10.1007/s13042-016-0625-9;</td>\n",
       "      <td>NaN</td>\n",
       "    </tr>\n",
       "    <tr>\n",
       "      <th>2</th>\n",
       "      <td>10.1002/2016jc011961;</td>\n",
       "      <td>NaN</td>\n",
       "    </tr>\n",
       "    <tr>\n",
       "      <th>3</th>\n",
       "      <td>10.1016/j.syapm.2019.02.005; 10.1016/j.syapm.2...</td>\n",
       "      <td>NaN</td>\n",
       "    </tr>\n",
       "    <tr>\n",
       "      <th>4</th>\n",
       "      <td>10.3389/fmicb.2016.01303;</td>\n",
       "      <td>NaN</td>\n",
       "    </tr>\n",
       "    <tr>\n",
       "      <th>...</th>\n",
       "      <td>...</td>\n",
       "      <td>...</td>\n",
       "    </tr>\n",
       "    <tr>\n",
       "      <th>128</th>\n",
       "      <td>NaN</td>\n",
       "      <td>10.1016/j.nanoso.2019.100422</td>\n",
       "    </tr>\n",
       "    <tr>\n",
       "      <th>129</th>\n",
       "      <td>NaN</td>\n",
       "      <td>10.1109/ic_aset49463.2020.9318261</td>\n",
       "    </tr>\n",
       "    <tr>\n",
       "      <th>130</th>\n",
       "      <td>NaN</td>\n",
       "      <td>10.1557/mrc.2020.29</td>\n",
       "    </tr>\n",
       "    <tr>\n",
       "      <th>131</th>\n",
       "      <td>NaN</td>\n",
       "      <td>10.3166/rfg.2020.00488</td>\n",
       "    </tr>\n",
       "    <tr>\n",
       "      <th>132</th>\n",
       "      <td>NaN</td>\n",
       "      <td>10.1016/j.physa.2019.122877</td>\n",
       "    </tr>\n",
       "  </tbody>\n",
       "</table>\n",
       "<p>736 rows × 2 columns</p>\n",
       "</div>"
      ],
      "text/plain": [
       "                                                  doi;  \\\n",
       "0                            10.1109/cca.2016.7587905;   \n",
       "1                           10.1007/s13042-016-0625-9;   \n",
       "2                                10.1002/2016jc011961;   \n",
       "3    10.1016/j.syapm.2019.02.005; 10.1016/j.syapm.2...   \n",
       "4                            10.3389/fmicb.2016.01303;   \n",
       "..                                                 ...   \n",
       "128                                                NaN   \n",
       "129                                                NaN   \n",
       "130                                                NaN   \n",
       "131                                                NaN   \n",
       "132                                                NaN   \n",
       "\n",
       "                                   doi  \n",
       "0                                  NaN  \n",
       "1                                  NaN  \n",
       "2                                  NaN  \n",
       "3                                  NaN  \n",
       "4                                  NaN  \n",
       "..                                 ...  \n",
       "128       10.1016/j.nanoso.2019.100422  \n",
       "129  10.1109/ic_aset49463.2020.9318261  \n",
       "130                10.1557/mrc.2020.29  \n",
       "131             10.3166/rfg.2020.00488  \n",
       "132        10.1016/j.physa.2019.122877  \n",
       "\n",
       "[736 rows x 2 columns]"
      ]
     },
     "execution_count": 36,
     "metadata": {},
     "output_type": "execute_result"
    }
   ],
   "source": [
    "lens_df"
   ]
  },
  {
   "cell_type": "markdown",
   "metadata": {},
   "source": [
    " <span style=\"color:green\"> **Les données de Lens.org sont à présent nettoyées et stockées dans la variable intitulée \"lens_df\".** </span>"
   ]
  },
  {
   "cell_type": "markdown",
   "metadata": {},
   "source": [
    "## <span style=\"color:orange\">Rassembler les 5 listes de DOI (WoS, PubMed, HAL, APC) et enlever les doublons</span>"
   ]
  },
  {
   "cell_type": "markdown",
   "metadata": {},
   "source": [
    "Si un établissement utilise Scopus à la place du Web of Science, remplacer \"wos_df\" par \"scopus_df\"."
   ]
  },
  {
   "cell_type": "markdown",
   "metadata": {},
   "source": [
    "### Concaténer les 5 listes de données"
   ]
  },
  {
   "cell_type": "markdown",
   "metadata": {},
   "source": [
    " <span style=\"color:red\"> **Pour adapter ce code à votre établissement, vous pouvez changer le nom de la variable \"all_toulon\". Mais attention dans ce cas à bien modifier le nom de la variable dans tout le reste du code.** </span>"
   ]
  },
  {
   "cell_type": "code",
   "execution_count": 37,
   "metadata": {},
   "outputs": [],
   "source": [
    "all_toulon = pandas.concat([wos_df, pubmed_df, hal_df, apc_df, lens_df])"
   ]
  },
  {
   "cell_type": "markdown",
   "metadata": {},
   "source": [
    "### Enlever les lignes sans DOI"
   ]
  },
  {
   "cell_type": "code",
   "execution_count": 38,
   "metadata": {},
   "outputs": [],
   "source": [
    "import numpy"
   ]
  },
  {
   "cell_type": "code",
   "execution_count": 39,
   "metadata": {},
   "outputs": [
    {
     "data": {
      "text/plain": [
       "0      True\n",
       "1      True\n",
       "2      True\n",
       "3      True\n",
       "4      True\n",
       "       ... \n",
       "128    True\n",
       "129    True\n",
       "130    True\n",
       "131    True\n",
       "132    True\n",
       "Name: doi, Length: 6246, dtype: bool"
      ]
     },
     "execution_count": 39,
     "metadata": {},
     "output_type": "execute_result"
    }
   ],
   "source": [
    "mask_doi = all_toulon[column_name].notna()\n",
    "mask_doi"
   ]
  },
  {
   "cell_type": "markdown",
   "metadata": {},
   "source": [
    "Le résultat correspond à la concaténation de toutes les lignes des 5 fichiers, y compris celles qui ne comprennent pas de DOI."
   ]
  },
  {
   "cell_type": "code",
   "execution_count": 40,
   "metadata": {},
   "outputs": [],
   "source": [
    "doi_toulon_doublons = all_toulon[mask_doi]"
   ]
  },
  {
   "cell_type": "code",
   "execution_count": 41,
   "metadata": {},
   "outputs": [
    {
     "data": {
      "text/html": [
       "<div>\n",
       "<style scoped>\n",
       "    .dataframe tbody tr th:only-of-type {\n",
       "        vertical-align: middle;\n",
       "    }\n",
       "\n",
       "    .dataframe tbody tr th {\n",
       "        vertical-align: top;\n",
       "    }\n",
       "\n",
       "    .dataframe thead th {\n",
       "        text-align: right;\n",
       "    }\n",
       "</style>\n",
       "<table border=\"1\" class=\"dataframe\">\n",
       "  <thead>\n",
       "    <tr style=\"text-align: right;\">\n",
       "      <th></th>\n",
       "      <th>doi</th>\n",
       "      <th>doi;</th>\n",
       "    </tr>\n",
       "  </thead>\n",
       "  <tbody>\n",
       "    <tr>\n",
       "      <th>0</th>\n",
       "      <td>10.1103/PhysRevD.94.123520</td>\n",
       "      <td>NaN</td>\n",
       "    </tr>\n",
       "    <tr>\n",
       "      <th>1</th>\n",
       "      <td>10.1186/s13068-016-0681-0</td>\n",
       "      <td>NaN</td>\n",
       "    </tr>\n",
       "    <tr>\n",
       "      <th>2</th>\n",
       "      <td>10.1186/s13068-016-0678-8</td>\n",
       "      <td>NaN</td>\n",
       "    </tr>\n",
       "    <tr>\n",
       "      <th>3</th>\n",
       "      <td>10.1186/s13640-016-0149-y</td>\n",
       "      <td>NaN</td>\n",
       "    </tr>\n",
       "    <tr>\n",
       "      <th>4</th>\n",
       "      <td>10.1088/1751-8113/49/49/495202</td>\n",
       "      <td>NaN</td>\n",
       "    </tr>\n",
       "    <tr>\n",
       "      <th>...</th>\n",
       "      <td>...</td>\n",
       "      <td>...</td>\n",
       "    </tr>\n",
       "    <tr>\n",
       "      <th>128</th>\n",
       "      <td>10.1016/j.nanoso.2019.100422</td>\n",
       "      <td>NaN</td>\n",
       "    </tr>\n",
       "    <tr>\n",
       "      <th>129</th>\n",
       "      <td>10.1109/ic_aset49463.2020.9318261</td>\n",
       "      <td>NaN</td>\n",
       "    </tr>\n",
       "    <tr>\n",
       "      <th>130</th>\n",
       "      <td>10.1557/mrc.2020.29</td>\n",
       "      <td>NaN</td>\n",
       "    </tr>\n",
       "    <tr>\n",
       "      <th>131</th>\n",
       "      <td>10.3166/rfg.2020.00488</td>\n",
       "      <td>NaN</td>\n",
       "    </tr>\n",
       "    <tr>\n",
       "      <th>132</th>\n",
       "      <td>10.1016/j.physa.2019.122877</td>\n",
       "      <td>NaN</td>\n",
       "    </tr>\n",
       "  </tbody>\n",
       "</table>\n",
       "<p>5868 rows × 2 columns</p>\n",
       "</div>"
      ],
      "text/plain": [
       "                                   doi doi;\n",
       "0           10.1103/PhysRevD.94.123520  NaN\n",
       "1            10.1186/s13068-016-0681-0  NaN\n",
       "2            10.1186/s13068-016-0678-8  NaN\n",
       "3            10.1186/s13640-016-0149-y  NaN\n",
       "4       10.1088/1751-8113/49/49/495202  NaN\n",
       "..                                 ...  ...\n",
       "128       10.1016/j.nanoso.2019.100422  NaN\n",
       "129  10.1109/ic_aset49463.2020.9318261  NaN\n",
       "130                10.1557/mrc.2020.29  NaN\n",
       "131             10.3166/rfg.2020.00488  NaN\n",
       "132        10.1016/j.physa.2019.122877  NaN\n",
       "\n",
       "[5868 rows x 2 columns]"
      ]
     },
     "execution_count": 41,
     "metadata": {},
     "output_type": "execute_result"
    }
   ],
   "source": [
    "doi_toulon_doublons"
   ]
  },
  {
   "cell_type": "markdown",
   "metadata": {},
   "source": [
    "Nous avons ici la liste de tous les DOI recensés dans nos 5 sources d'information. Mais attention, il peut y avoir des doublons : les DOI peuvent notamment être écrits en minuscules comme en majuscules."
   ]
  },
  {
   "cell_type": "markdown",
   "metadata": {},
   "source": [
    "### Enlever les doublons"
   ]
  },
  {
   "cell_type": "markdown",
   "metadata": {},
   "source": [
    "Avant d'enlever les doublons, il faut normaliser les DOI et tous les passer en minuscules."
   ]
  },
  {
   "cell_type": "code",
   "execution_count": 42,
   "metadata": {},
   "outputs": [],
   "source": [
    "doi_toulon_doublons_minuscule = doi_toulon_doublons[column_name].str.lower()"
   ]
  },
  {
   "cell_type": "code",
   "execution_count": 43,
   "metadata": {},
   "outputs": [],
   "source": [
    "doi_toulon_doublons_df = pandas.DataFrame({column_name : doi_toulon_doublons_minuscule}) "
   ]
  },
  {
   "cell_type": "markdown",
   "metadata": {},
   "source": [
    "Après avoir passé l'ensemble de la DataFrame en minuscules, on peut enlever les doublons."
   ]
  },
  {
   "cell_type": "code",
   "execution_count": 44,
   "metadata": {},
   "outputs": [],
   "source": [
    "doi_toulon_final = doi_toulon_doublons_df.drop_duplicates()"
   ]
  },
  {
   "cell_type": "markdown",
   "metadata": {},
   "source": [
    "Réindexer la DataFrame pour que le nom des lignes soit propre :"
   ]
  },
  {
   "cell_type": "code",
   "execution_count": 45,
   "metadata": {},
   "outputs": [],
   "source": [
    "doi_toulon_final.reset_index(drop=True, inplace=True)"
   ]
  },
  {
   "cell_type": "code",
   "execution_count": 46,
   "metadata": {},
   "outputs": [
    {
     "data": {
      "text/html": [
       "<div>\n",
       "<style scoped>\n",
       "    .dataframe tbody tr th:only-of-type {\n",
       "        vertical-align: middle;\n",
       "    }\n",
       "\n",
       "    .dataframe tbody tr th {\n",
       "        vertical-align: top;\n",
       "    }\n",
       "\n",
       "    .dataframe thead th {\n",
       "        text-align: right;\n",
       "    }\n",
       "</style>\n",
       "<table border=\"1\" class=\"dataframe\">\n",
       "  <thead>\n",
       "    <tr style=\"text-align: right;\">\n",
       "      <th></th>\n",
       "      <th>doi</th>\n",
       "    </tr>\n",
       "  </thead>\n",
       "  <tbody>\n",
       "    <tr>\n",
       "      <th>0</th>\n",
       "      <td>10.1103/physrevd.94.123520</td>\n",
       "    </tr>\n",
       "    <tr>\n",
       "      <th>1</th>\n",
       "      <td>10.1186/s13068-016-0681-0</td>\n",
       "    </tr>\n",
       "    <tr>\n",
       "      <th>2</th>\n",
       "      <td>10.1186/s13068-016-0678-8</td>\n",
       "    </tr>\n",
       "    <tr>\n",
       "      <th>3</th>\n",
       "      <td>10.1186/s13640-016-0149-y</td>\n",
       "    </tr>\n",
       "    <tr>\n",
       "      <th>4</th>\n",
       "      <td>10.1088/1751-8113/49/49/495202</td>\n",
       "    </tr>\n",
       "    <tr>\n",
       "      <th>...</th>\n",
       "      <td>...</td>\n",
       "    </tr>\n",
       "    <tr>\n",
       "      <th>3769</th>\n",
       "      <td>10.1109/ijcnn48605.2020.9207145</td>\n",
       "    </tr>\n",
       "    <tr>\n",
       "      <th>3770</th>\n",
       "      <td>10.1051/epjconf/202022504009</td>\n",
       "    </tr>\n",
       "    <tr>\n",
       "      <th>3771</th>\n",
       "      <td>10.32735/s0718-2201202000050798</td>\n",
       "    </tr>\n",
       "    <tr>\n",
       "      <th>3772</th>\n",
       "      <td>10.1109/ic_aset49463.2020.9318261</td>\n",
       "    </tr>\n",
       "    <tr>\n",
       "      <th>3773</th>\n",
       "      <td>10.3166/rfg.2020.00488</td>\n",
       "    </tr>\n",
       "  </tbody>\n",
       "</table>\n",
       "<p>3774 rows × 1 columns</p>\n",
       "</div>"
      ],
      "text/plain": [
       "                                    doi\n",
       "0            10.1103/physrevd.94.123520\n",
       "1             10.1186/s13068-016-0681-0\n",
       "2             10.1186/s13068-016-0678-8\n",
       "3             10.1186/s13640-016-0149-y\n",
       "4        10.1088/1751-8113/49/49/495202\n",
       "...                                 ...\n",
       "3769    10.1109/ijcnn48605.2020.9207145\n",
       "3770       10.1051/epjconf/202022504009\n",
       "3771    10.32735/s0718-2201202000050798\n",
       "3772  10.1109/ic_aset49463.2020.9318261\n",
       "3773             10.3166/rfg.2020.00488\n",
       "\n",
       "[3774 rows x 1 columns]"
      ]
     },
     "execution_count": 46,
     "metadata": {},
     "output_type": "execute_result"
    }
   ],
   "source": [
    "doi_toulon_final"
   ]
  },
  {
   "cell_type": "markdown",
   "metadata": {},
   "source": [
    "**On obtient 21 457 DOI pour la période 2016-2020.**  <span style=\"color:red\"> **Ce chiffre est à actualiser chaque année : dans le code, cela se fera automatiquement.** </span>"
   ]
  },
  {
   "cell_type": "markdown",
   "metadata": {},
   "source": [
    "### Créer dans le dossier \"outputs\" un fichier CSV avec la liste des DOI"
   ]
  },
  {
   "cell_type": "markdown",
   "metadata": {},
   "source": [
    "De même que précédemment, chaque établissement peut utiliser un nom différent : il faut simplement penser à remplacer \"toulon\" par le nom de l'établissement à chaque fois qu'il apparaît dans le code et toujours l'écrire de la même façon."
   ]
  },
  {
   "cell_type": "code",
   "execution_count": 47,
   "metadata": {},
   "outputs": [],
   "source": [
    "doi_toulon_final.to_csv(\"Data\\outputs\\doi_toulon.csv\",index=False)"
   ]
  },
  {
   "cell_type": "markdown",
   "metadata": {},
   "source": [
    "Pour obtenir cette liste dans un format Excel classique, saisir le code suivant."
   ]
  },
  {
   "cell_type": "code",
   "execution_count": 48,
   "metadata": {},
   "outputs": [],
   "source": [
    "doi_toulon_final.to_csv(\"Data\\outputs\\doi_toulon.xls\",index=False)"
   ]
  }
 ],
 "metadata": {
  "kernelspec": {
   "display_name": "Python 3",
   "language": "python",
   "name": "python3"
  },
  "language_info": {
   "codemirror_mode": {
    "name": "ipython",
    "version": 3
   },
   "file_extension": ".py",
   "mimetype": "text/x-python",
   "name": "python",
   "nbconvert_exporter": "python",
   "pygments_lexer": "ipython3",
   "version": "3.7.6"
  }
 },
 "nbformat": 4,
 "nbformat_minor": 4
}
